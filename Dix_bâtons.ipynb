{
  "nbformat": 4,
  "nbformat_minor": 0,
  "metadata": {
    "colab": {
      "provenance": [],
      "authorship_tag": "ABX9TyO4KYUM/1uDG7Fep6D1tChL",
      "include_colab_link": true
    },
    "kernelspec": {
      "name": "python3",
      "display_name": "Python 3"
    },
    "language_info": {
      "name": "python"
    }
  },
  "cells": [
    {
      "cell_type": "markdown",
      "metadata": {
        "id": "view-in-github",
        "colab_type": "text"
      },
      "source": [
        "<a href=\"https://colab.research.google.com/github/Skand69/Python-Machine-Learning/blob/master/Dix_b%C3%A2tons.ipynb\" target=\"_parent\"><img src=\"https://colab.research.google.com/assets/colab-badge.svg\" alt=\"Open In Colab\"/></a>"
      ]
    },
    {
      "cell_type": "code",
      "execution_count": null,
      "metadata": {
        "id": "QvUscSK-eLVk"
      },
      "outputs": [],
      "source": [
        "import random\n",
        "\n",
        "def choix1(batons_restants):\n",
        "\n",
        "    #l'équipe 1 place son code ici\n",
        "\n",
        "\n",
        "def choix2(batons_restants) :\n",
        "\n",
        "\n",
        "    #l'équipe 2 place son code ici\n",
        "\n",
        "\n",
        "nb_batons=10\n",
        "\n",
        "# La variable tour va alterner entre 1 et 2\n",
        "# On tire à pile ou face qui commence!\n",
        "tour=random.randint (1, 2)\n",
        "\n",
        "while nb_batons>0:\n",
        "\n",
        "    #si tour vaut 1, c'est à l'équipe 1 de jouer\n",
        "    #si tour vaut 2, c'est à I'équipe 2 de jouer\n",
        "    if tour==1 :\n",
        "        choix=choix1(nb_batons)\n",
        "    else :\n",
        "        choix=choix2(nb_batons)\n",
        "# on s' assure gue la fonction renvoie un entier grâce à isinstance()\n",
        "# et que ce nombre est: compris entre 1 et 3\n",
        "#et qu'il reste au moins un bâton après le tour\n",
        "\n",
        "    if isinstance (choix, int) and choix>0 and choix<4 and nb_batons-choix>0:\n",
        "        # on enlève le nombre de bâtons indiqués\n",
        "        nb_batons=nb_batons-choix\n",
        "        print ( \"choix de l'équipe\", tour,\":\", choix)\n",
        "        print ( \"il reste\", nb_batons, \"batons\")\n",
        "        print ( \" \" )\n",
        "\n",
        "        # On passe à l'autre équipe, si tour valait 1, il vaut maintenant 2.\n",
        "        # Si tour valait 2, il vaut maintenant 1.\n",
        "\n",
        "        tour=3-tour\n",
        "\n",
        "    else:\n",
        "        #l'équipe dont c'est le tour a perdu\n",
        "        print(\"l'équipe\",3-tour, \"a gagné!\")\n",
        "        #on s'assure qu'on sort de la boucle\n",
        "        nb_batons=0"
      ]
    }
  ]
}